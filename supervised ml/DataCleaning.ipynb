{
 "cells": [
  {
   "cell_type": "code",
   "execution_count": 21,
   "id": "c6082e24-7d40-488a-b461-b7e7ea2d4f26",
   "metadata": {},
   "outputs": [
    {
     "name": "stdout",
     "output_type": "stream",
     "text": [
      "Requirement already satisfied: pandas in c:\\users\\hp\\appdata\\local\\programs\\python\\python311\\lib\\site-packages (2.3.2)\n",
      "Requirement already satisfied: numpy>=1.23.2 in c:\\users\\hp\\appdata\\local\\programs\\python\\python311\\lib\\site-packages (from pandas) (2.3.3)\n",
      "Requirement already satisfied: python-dateutil>=2.8.2 in c:\\users\\hp\\appdata\\local\\programs\\python\\python311\\lib\\site-packages (from pandas) (2.9.0.post0)\n",
      "Requirement already satisfied: pytz>=2020.1 in c:\\users\\hp\\appdata\\local\\programs\\python\\python311\\lib\\site-packages (from pandas) (2025.2)\n",
      "Requirement already satisfied: tzdata>=2022.7 in c:\\users\\hp\\appdata\\local\\programs\\python\\python311\\lib\\site-packages (from pandas) (2025.2)\n",
      "Requirement already satisfied: six>=1.5 in c:\\users\\hp\\appdata\\local\\programs\\python\\python311\\lib\\site-packages (from python-dateutil>=2.8.2->pandas) (1.17.0)\n",
      "Note: you may need to restart the kernel to use updated packages.\n",
      "Requirement already satisfied: seaborn in c:\\users\\hp\\appdata\\local\\programs\\python\\python311\\lib\\site-packages (0.13.2)\n",
      "Requirement already satisfied: numpy!=1.24.0,>=1.20 in c:\\users\\hp\\appdata\\local\\programs\\python\\python311\\lib\\site-packages (from seaborn) (2.3.3)\n",
      "Requirement already satisfied: pandas>=1.2 in c:\\users\\hp\\appdata\\local\\programs\\python\\python311\\lib\\site-packages (from seaborn) (2.3.2)\n",
      "Requirement already satisfied: matplotlib!=3.6.1,>=3.4 in c:\\users\\hp\\appdata\\local\\programs\\python\\python311\\lib\\site-packages (from seaborn) (3.10.7)\n",
      "Requirement already satisfied: contourpy>=1.0.1 in c:\\users\\hp\\appdata\\local\\programs\\python\\python311\\lib\\site-packages (from matplotlib!=3.6.1,>=3.4->seaborn) (1.3.3)\n",
      "Requirement already satisfied: cycler>=0.10 in c:\\users\\hp\\appdata\\local\\programs\\python\\python311\\lib\\site-packages (from matplotlib!=3.6.1,>=3.4->seaborn) (0.12.1)\n",
      "Requirement already satisfied: fonttools>=4.22.0 in c:\\users\\hp\\appdata\\local\\programs\\python\\python311\\lib\\site-packages (from matplotlib!=3.6.1,>=3.4->seaborn) (4.60.1)\n",
      "Requirement already satisfied: kiwisolver>=1.3.1 in c:\\users\\hp\\appdata\\local\\programs\\python\\python311\\lib\\site-packages (from matplotlib!=3.6.1,>=3.4->seaborn) (1.4.9)\n",
      "Requirement already satisfied: packaging>=20.0 in c:\\users\\hp\\appdata\\local\\programs\\python\\python311\\lib\\site-packages (from matplotlib!=3.6.1,>=3.4->seaborn) (25.0)\n",
      "Requirement already satisfied: pillow>=8 in c:\\users\\hp\\appdata\\local\\programs\\python\\python311\\lib\\site-packages (from matplotlib!=3.6.1,>=3.4->seaborn) (11.3.0)\n",
      "Requirement already satisfied: pyparsing>=3 in c:\\users\\hp\\appdata\\local\\programs\\python\\python311\\lib\\site-packages (from matplotlib!=3.6.1,>=3.4->seaborn) (3.2.5)\n",
      "Requirement already satisfied: python-dateutil>=2.7 in c:\\users\\hp\\appdata\\local\\programs\\python\\python311\\lib\\site-packages (from matplotlib!=3.6.1,>=3.4->seaborn) (2.9.0.post0)\n",
      "Requirement already satisfied: pytz>=2020.1 in c:\\users\\hp\\appdata\\local\\programs\\python\\python311\\lib\\site-packages (from pandas>=1.2->seaborn) (2025.2)\n",
      "Requirement already satisfied: tzdata>=2022.7 in c:\\users\\hp\\appdata\\local\\programs\\python\\python311\\lib\\site-packages (from pandas>=1.2->seaborn) (2025.2)\n",
      "Requirement already satisfied: six>=1.5 in c:\\users\\hp\\appdata\\local\\programs\\python\\python311\\lib\\site-packages (from python-dateutil>=2.7->matplotlib!=3.6.1,>=3.4->seaborn) (1.17.0)\n",
      "Note: you may need to restart the kernel to use updated packages.\n",
      "Requirement already satisfied: matplotlib in c:\\users\\hp\\appdata\\local\\programs\\python\\python311\\lib\\site-packages (3.10.7)\n",
      "Requirement already satisfied: contourpy>=1.0.1 in c:\\users\\hp\\appdata\\local\\programs\\python\\python311\\lib\\site-packages (from matplotlib) (1.3.3)\n",
      "Requirement already satisfied: cycler>=0.10 in c:\\users\\hp\\appdata\\local\\programs\\python\\python311\\lib\\site-packages (from matplotlib) (0.12.1)\n",
      "Requirement already satisfied: fonttools>=4.22.0 in c:\\users\\hp\\appdata\\local\\programs\\python\\python311\\lib\\site-packages (from matplotlib) (4.60.1)\n",
      "Requirement already satisfied: kiwisolver>=1.3.1 in c:\\users\\hp\\appdata\\local\\programs\\python\\python311\\lib\\site-packages (from matplotlib) (1.4.9)\n",
      "Requirement already satisfied: numpy>=1.23 in c:\\users\\hp\\appdata\\local\\programs\\python\\python311\\lib\\site-packages (from matplotlib) (2.3.3)\n",
      "Requirement already satisfied: packaging>=20.0 in c:\\users\\hp\\appdata\\local\\programs\\python\\python311\\lib\\site-packages (from matplotlib) (25.0)\n",
      "Requirement already satisfied: pillow>=8 in c:\\users\\hp\\appdata\\local\\programs\\python\\python311\\lib\\site-packages (from matplotlib) (11.3.0)\n",
      "Requirement already satisfied: pyparsing>=3 in c:\\users\\hp\\appdata\\local\\programs\\python\\python311\\lib\\site-packages (from matplotlib) (3.2.5)\n",
      "Requirement already satisfied: python-dateutil>=2.7 in c:\\users\\hp\\appdata\\local\\programs\\python\\python311\\lib\\site-packages (from matplotlib) (2.9.0.post0)\n",
      "Requirement already satisfied: six>=1.5 in c:\\users\\hp\\appdata\\local\\programs\\python\\python311\\lib\\site-packages (from python-dateutil>=2.7->matplotlib) (1.17.0)\n",
      "Note: you may need to restart the kernel to use updated packages.\n"
     ]
    }
   ],
   "source": [
    "%pip install pandas\n",
    "%pip install seaborn\n",
    "%pip install matplotlib\n"
   ]
  },
  {
   "cell_type": "code",
   "execution_count": null,
   "id": "9bd30540-253d-4a46-8a0b-fe081508b88c",
   "metadata": {},
   "outputs": [
    {
     "name": "stderr",
     "output_type": "stream",
     "text": [
      "Matplotlib is building the font cache; this may take a moment.\n"
     ]
    }
   ],
   "source": [
    "%pip install matplotlib\n",
    "import pandas as pd\n",
    "# graphical represntation we used sea born\n",
    "import seaborn as sns\n",
    "import matplotlib.pyplot as plt"
   ]
  },
  {
   "cell_type": "code",
   "execution_count": 23,
   "id": "612031ef-9621-4fbf-a87b-5ec6071810c3",
   "metadata": {},
   "outputs": [
    {
     "data": {
      "application/vnd.microsoft.datawrangler.viewer.v0+json": {
       "columns": [
        {
         "name": "index",
         "rawType": "int64",
         "type": "integer"
        },
        {
         "name": "Index",
         "rawType": "int64",
         "type": "integer"
        },
        {
         "name": "Customer Id",
         "rawType": "object",
         "type": "string"
        },
        {
         "name": "First Name",
         "rawType": "object",
         "type": "string"
        },
        {
         "name": "Last Name",
         "rawType": "object",
         "type": "string"
        },
        {
         "name": "Company",
         "rawType": "object",
         "type": "string"
        },
        {
         "name": "City",
         "rawType": "object",
         "type": "string"
        },
        {
         "name": "Country",
         "rawType": "object",
         "type": "string"
        },
        {
         "name": "Phone 1",
         "rawType": "object",
         "type": "string"
        },
        {
         "name": "Phone 2",
         "rawType": "object",
         "type": "string"
        },
        {
         "name": "Email",
         "rawType": "object",
         "type": "string"
        },
        {
         "name": "Subscription Date",
         "rawType": "object",
         "type": "string"
        },
        {
         "name": "Website",
         "rawType": "object",
         "type": "string"
        }
       ],
       "ref": "a981fba0-2979-4dd0-bf55-e75bee0e7ba0",
       "rows": [
        [
         "0",
         "1",
         "ffeCAb7AbcB0f07",
         "Jared",
         "Jarvis",
         "Sanchez-Fletcher",
         "Hatfieldshire",
         "Eritrea",
         "274.188.8773x41185",
         "001-215-760-4642x969",
         "gabriellehartman@benjamin.com",
         "2021-11-11",
         "https://www.mccarthy.info/"
        ],
        [
         "1",
         "2",
         "b687FfC4F1600eC",
         "Marie",
         "Malone",
         "Mckay PLC",
         "Robertsonburgh",
         "Botswana",
         "283-236-9529",
         "(189)129-8356x63741",
         "kstafford@sexton.com",
         "2021-05-14",
         "http://www.reynolds.com/"
        ],
        [
         "2",
         "3",
         "9FF9ACbc69dcF9c",
         "Elijah",
         "Barrera",
         "Marks and Sons",
         "Kimbury",
         "Barbados",
         "8252703789",
         "459-916-7241x0909",
         "jeanettecross@brown.com",
         "2021-03-17",
         "https://neal.com/"
        ],
        [
         "3",
         "4",
         "b49edDB1295FF6E",
         "Sheryl",
         "Montgomery",
         "Kirby, Vaughn and Sanders",
         "Briannaview",
         "Antarctica (the territory South of 60 deg S)",
         "425.475.3586",
         "(392)819-9063",
         "thomassierra@barrett.com",
         "2020-09-23",
         "https://www.powell-bryan.com/"
        ],
        [
         "4",
         "5",
         "3dcCbFEB17CCf2E",
         "Jeremy",
         "Houston",
         "Lester-Manning",
         "South Brianna",
         "Micronesia",
         "+1-223-666-5313x4530",
         "252-488-3850x692",
         "rubenwatkins@jacobs-wallace.info",
         "2020-09-18",
         "https://www.carrillo.com/"
        ],
        [
         "5",
         "6",
         "75bEe1B33E517AF",
         "Frank",
         "Villarreal",
         "Craig, Dennis and Maddox",
         "Reidtown",
         "Panama",
         "+1-165-340-7100x44099",
         "(847)867-2795x043",
         "gmurillo@perez.com",
         "2022-01-13",
         "https://patel.org/"
        ],
        [
         "6",
         "7",
         "CB8b29B8Fbbbe58",
         "Rickey",
         "Fox",
         "Benson, Gray and Fitzpatrick",
         "Mcintoshberg",
         "United States of America",
         "426.446.3838",
         "437.476.4705",
         "melissabenitez@le.info",
         "2021-11-05",
         "http://www.irwin-donaldson.com/"
        ],
        [
         "7",
         "8",
         "56b3cEA1E6A49F1",
         "Barry",
         "Ware",
         "Glenn Ltd",
         "Lake Pedrofort",
         "American Samoa",
         "101-419-0208x043",
         "931.542.3115x98926",
         "brent60@lopez.com",
         "2022-05-12",
         "https://www.bean.biz/"
        ],
        [
         "8",
         "9",
         "f9443f5f6AF0Da0",
         "Carl",
         "Mcdowell",
         "Davila-Leach",
         "Petersbury",
         "Saint Vincent and the Grenadines",
         "+1-740-392-0511",
         "+1-218-891-5403x7270",
         "toddharris@lowery-rosario.biz",
         "2022-05-28",
         "https://www.burnett.com/"
        ],
        [
         "9",
         "10",
         "C99b63E0d92C565",
         "Pam",
         "Dalton",
         "Mckenzie Ltd",
         "Hillside",
         "Tanzania",
         "0389689232",
         "344-952-1181x6911",
         "carolbanks@vang-stafford.com",
         "2022-03-04",
         "http://www.maxwell-bradford.com/"
        ]
       ],
       "shape": {
        "columns": 12,
        "rows": 10
       }
      },
      "text/html": [
       "<div>\n",
       "<style scoped>\n",
       "    .dataframe tbody tr th:only-of-type {\n",
       "        vertical-align: middle;\n",
       "    }\n",
       "\n",
       "    .dataframe tbody tr th {\n",
       "        vertical-align: top;\n",
       "    }\n",
       "\n",
       "    .dataframe thead th {\n",
       "        text-align: right;\n",
       "    }\n",
       "</style>\n",
       "<table border=\"1\" class=\"dataframe\">\n",
       "  <thead>\n",
       "    <tr style=\"text-align: right;\">\n",
       "      <th></th>\n",
       "      <th>Index</th>\n",
       "      <th>Customer Id</th>\n",
       "      <th>First Name</th>\n",
       "      <th>Last Name</th>\n",
       "      <th>Company</th>\n",
       "      <th>City</th>\n",
       "      <th>Country</th>\n",
       "      <th>Phone 1</th>\n",
       "      <th>Phone 2</th>\n",
       "      <th>Email</th>\n",
       "      <th>Subscription Date</th>\n",
       "      <th>Website</th>\n",
       "    </tr>\n",
       "  </thead>\n",
       "  <tbody>\n",
       "    <tr>\n",
       "      <th>0</th>\n",
       "      <td>1</td>\n",
       "      <td>ffeCAb7AbcB0f07</td>\n",
       "      <td>Jared</td>\n",
       "      <td>Jarvis</td>\n",
       "      <td>Sanchez-Fletcher</td>\n",
       "      <td>Hatfieldshire</td>\n",
       "      <td>Eritrea</td>\n",
       "      <td>274.188.8773x41185</td>\n",
       "      <td>001-215-760-4642x969</td>\n",
       "      <td>gabriellehartman@benjamin.com</td>\n",
       "      <td>2021-11-11</td>\n",
       "      <td>https://www.mccarthy.info/</td>\n",
       "    </tr>\n",
       "    <tr>\n",
       "      <th>1</th>\n",
       "      <td>2</td>\n",
       "      <td>b687FfC4F1600eC</td>\n",
       "      <td>Marie</td>\n",
       "      <td>Malone</td>\n",
       "      <td>Mckay PLC</td>\n",
       "      <td>Robertsonburgh</td>\n",
       "      <td>Botswana</td>\n",
       "      <td>283-236-9529</td>\n",
       "      <td>(189)129-8356x63741</td>\n",
       "      <td>kstafford@sexton.com</td>\n",
       "      <td>2021-05-14</td>\n",
       "      <td>http://www.reynolds.com/</td>\n",
       "    </tr>\n",
       "    <tr>\n",
       "      <th>2</th>\n",
       "      <td>3</td>\n",
       "      <td>9FF9ACbc69dcF9c</td>\n",
       "      <td>Elijah</td>\n",
       "      <td>Barrera</td>\n",
       "      <td>Marks and Sons</td>\n",
       "      <td>Kimbury</td>\n",
       "      <td>Barbados</td>\n",
       "      <td>8252703789</td>\n",
       "      <td>459-916-7241x0909</td>\n",
       "      <td>jeanettecross@brown.com</td>\n",
       "      <td>2021-03-17</td>\n",
       "      <td>https://neal.com/</td>\n",
       "    </tr>\n",
       "    <tr>\n",
       "      <th>3</th>\n",
       "      <td>4</td>\n",
       "      <td>b49edDB1295FF6E</td>\n",
       "      <td>Sheryl</td>\n",
       "      <td>Montgomery</td>\n",
       "      <td>Kirby, Vaughn and Sanders</td>\n",
       "      <td>Briannaview</td>\n",
       "      <td>Antarctica (the territory South of 60 deg S)</td>\n",
       "      <td>425.475.3586</td>\n",
       "      <td>(392)819-9063</td>\n",
       "      <td>thomassierra@barrett.com</td>\n",
       "      <td>2020-09-23</td>\n",
       "      <td>https://www.powell-bryan.com/</td>\n",
       "    </tr>\n",
       "    <tr>\n",
       "      <th>4</th>\n",
       "      <td>5</td>\n",
       "      <td>3dcCbFEB17CCf2E</td>\n",
       "      <td>Jeremy</td>\n",
       "      <td>Houston</td>\n",
       "      <td>Lester-Manning</td>\n",
       "      <td>South Brianna</td>\n",
       "      <td>Micronesia</td>\n",
       "      <td>+1-223-666-5313x4530</td>\n",
       "      <td>252-488-3850x692</td>\n",
       "      <td>rubenwatkins@jacobs-wallace.info</td>\n",
       "      <td>2020-09-18</td>\n",
       "      <td>https://www.carrillo.com/</td>\n",
       "    </tr>\n",
       "    <tr>\n",
       "      <th>5</th>\n",
       "      <td>6</td>\n",
       "      <td>75bEe1B33E517AF</td>\n",
       "      <td>Frank</td>\n",
       "      <td>Villarreal</td>\n",
       "      <td>Craig, Dennis and Maddox</td>\n",
       "      <td>Reidtown</td>\n",
       "      <td>Panama</td>\n",
       "      <td>+1-165-340-7100x44099</td>\n",
       "      <td>(847)867-2795x043</td>\n",
       "      <td>gmurillo@perez.com</td>\n",
       "      <td>2022-01-13</td>\n",
       "      <td>https://patel.org/</td>\n",
       "    </tr>\n",
       "    <tr>\n",
       "      <th>6</th>\n",
       "      <td>7</td>\n",
       "      <td>CB8b29B8Fbbbe58</td>\n",
       "      <td>Rickey</td>\n",
       "      <td>Fox</td>\n",
       "      <td>Benson, Gray and Fitzpatrick</td>\n",
       "      <td>Mcintoshberg</td>\n",
       "      <td>United States of America</td>\n",
       "      <td>426.446.3838</td>\n",
       "      <td>437.476.4705</td>\n",
       "      <td>melissabenitez@le.info</td>\n",
       "      <td>2021-11-05</td>\n",
       "      <td>http://www.irwin-donaldson.com/</td>\n",
       "    </tr>\n",
       "    <tr>\n",
       "      <th>7</th>\n",
       "      <td>8</td>\n",
       "      <td>56b3cEA1E6A49F1</td>\n",
       "      <td>Barry</td>\n",
       "      <td>Ware</td>\n",
       "      <td>Glenn Ltd</td>\n",
       "      <td>Lake Pedrofort</td>\n",
       "      <td>American Samoa</td>\n",
       "      <td>101-419-0208x043</td>\n",
       "      <td>931.542.3115x98926</td>\n",
       "      <td>brent60@lopez.com</td>\n",
       "      <td>2022-05-12</td>\n",
       "      <td>https://www.bean.biz/</td>\n",
       "    </tr>\n",
       "    <tr>\n",
       "      <th>8</th>\n",
       "      <td>9</td>\n",
       "      <td>f9443f5f6AF0Da0</td>\n",
       "      <td>Carl</td>\n",
       "      <td>Mcdowell</td>\n",
       "      <td>Davila-Leach</td>\n",
       "      <td>Petersbury</td>\n",
       "      <td>Saint Vincent and the Grenadines</td>\n",
       "      <td>+1-740-392-0511</td>\n",
       "      <td>+1-218-891-5403x7270</td>\n",
       "      <td>toddharris@lowery-rosario.biz</td>\n",
       "      <td>2022-05-28</td>\n",
       "      <td>https://www.burnett.com/</td>\n",
       "    </tr>\n",
       "    <tr>\n",
       "      <th>9</th>\n",
       "      <td>10</td>\n",
       "      <td>C99b63E0d92C565</td>\n",
       "      <td>Pam</td>\n",
       "      <td>Dalton</td>\n",
       "      <td>Mckenzie Ltd</td>\n",
       "      <td>Hillside</td>\n",
       "      <td>Tanzania</td>\n",
       "      <td>0389689232</td>\n",
       "      <td>344-952-1181x6911</td>\n",
       "      <td>carolbanks@vang-stafford.com</td>\n",
       "      <td>2022-03-04</td>\n",
       "      <td>http://www.maxwell-bradford.com/</td>\n",
       "    </tr>\n",
       "  </tbody>\n",
       "</table>\n",
       "</div>"
      ],
      "text/plain": [
       "   Index      Customer Id First Name   Last Name  \\\n",
       "0      1  ffeCAb7AbcB0f07      Jared      Jarvis   \n",
       "1      2  b687FfC4F1600eC      Marie      Malone   \n",
       "2      3  9FF9ACbc69dcF9c     Elijah     Barrera   \n",
       "3      4  b49edDB1295FF6E     Sheryl  Montgomery   \n",
       "4      5  3dcCbFEB17CCf2E     Jeremy     Houston   \n",
       "5      6  75bEe1B33E517AF      Frank  Villarreal   \n",
       "6      7  CB8b29B8Fbbbe58     Rickey         Fox   \n",
       "7      8  56b3cEA1E6A49F1      Barry        Ware   \n",
       "8      9  f9443f5f6AF0Da0       Carl    Mcdowell   \n",
       "9     10  C99b63E0d92C565        Pam      Dalton   \n",
       "\n",
       "                        Company            City  \\\n",
       "0              Sanchez-Fletcher   Hatfieldshire   \n",
       "1                     Mckay PLC  Robertsonburgh   \n",
       "2                Marks and Sons         Kimbury   \n",
       "3     Kirby, Vaughn and Sanders     Briannaview   \n",
       "4                Lester-Manning   South Brianna   \n",
       "5      Craig, Dennis and Maddox        Reidtown   \n",
       "6  Benson, Gray and Fitzpatrick    Mcintoshberg   \n",
       "7                     Glenn Ltd  Lake Pedrofort   \n",
       "8                  Davila-Leach      Petersbury   \n",
       "9                  Mckenzie Ltd        Hillside   \n",
       "\n",
       "                                        Country                Phone 1  \\\n",
       "0                                       Eritrea     274.188.8773x41185   \n",
       "1                                      Botswana           283-236-9529   \n",
       "2                                      Barbados             8252703789   \n",
       "3  Antarctica (the territory South of 60 deg S)           425.475.3586   \n",
       "4                                    Micronesia   +1-223-666-5313x4530   \n",
       "5                                        Panama  +1-165-340-7100x44099   \n",
       "6                      United States of America           426.446.3838   \n",
       "7                                American Samoa       101-419-0208x043   \n",
       "8              Saint Vincent and the Grenadines        +1-740-392-0511   \n",
       "9                                      Tanzania             0389689232   \n",
       "\n",
       "                Phone 2                             Email Subscription Date  \\\n",
       "0  001-215-760-4642x969     gabriellehartman@benjamin.com        2021-11-11   \n",
       "1   (189)129-8356x63741              kstafford@sexton.com        2021-05-14   \n",
       "2     459-916-7241x0909           jeanettecross@brown.com        2021-03-17   \n",
       "3         (392)819-9063          thomassierra@barrett.com        2020-09-23   \n",
       "4      252-488-3850x692  rubenwatkins@jacobs-wallace.info        2020-09-18   \n",
       "5     (847)867-2795x043                gmurillo@perez.com        2022-01-13   \n",
       "6          437.476.4705            melissabenitez@le.info        2021-11-05   \n",
       "7    931.542.3115x98926                 brent60@lopez.com        2022-05-12   \n",
       "8  +1-218-891-5403x7270     toddharris@lowery-rosario.biz        2022-05-28   \n",
       "9     344-952-1181x6911      carolbanks@vang-stafford.com        2022-03-04   \n",
       "\n",
       "                            Website  \n",
       "0        https://www.mccarthy.info/  \n",
       "1          http://www.reynolds.com/  \n",
       "2                 https://neal.com/  \n",
       "3     https://www.powell-bryan.com/  \n",
       "4         https://www.carrillo.com/  \n",
       "5                https://patel.org/  \n",
       "6   http://www.irwin-donaldson.com/  \n",
       "7             https://www.bean.biz/  \n",
       "8          https://www.burnett.com/  \n",
       "9  http://www.maxwell-bradford.com/  "
      ]
     },
     "execution_count": 23,
     "metadata": {},
     "output_type": "execute_result"
    }
   ],
   "source": [
    "dataset = pd.read_csv(r\"C:\\Users\\HP\\Downloads\\customers-100000.csv\")\n",
    "dataset.head(10)"
   ]
  },
  {
   "cell_type": "code",
   "execution_count": 24,
   "id": "76a5cfad-deb7-4777-bb28-e658b328a370",
   "metadata": {},
   "outputs": [
    {
     "data": {
      "text/plain": [
       "(100000, 12)"
      ]
     },
     "execution_count": 24,
     "metadata": {},
     "output_type": "execute_result"
    }
   ],
   "source": [
    "dataset.shape"
   ]
  },
  {
   "cell_type": "code",
   "execution_count": 25,
   "id": "64c4723e",
   "metadata": {},
   "outputs": [
    {
     "data": {
      "text/plain": [
       "100000"
      ]
     },
     "execution_count": 25,
     "metadata": {},
     "output_type": "execute_result"
    }
   ],
   "source": [
    "dataset.shape[0]"
   ]
  },
  {
   "cell_type": "code",
   "execution_count": 26,
   "id": "76fa4e61",
   "metadata": {},
   "outputs": [
    {
     "data": {
      "text/plain": [
       "np.int64(0)"
      ]
     },
     "execution_count": 26,
     "metadata": {},
     "output_type": "execute_result"
    }
   ],
   "source": [
    "dataset.isnull().sum().sum()"
   ]
  },
  {
   "cell_type": "code",
   "execution_count": 27,
   "id": "5c404a93",
   "metadata": {},
   "outputs": [
    {
     "data": {
      "text/plain": [
       "np.float64(0.0)"
      ]
     },
     "execution_count": 27,
     "metadata": {},
     "output_type": "execute_result"
    }
   ],
   "source": [
    "# overall data m kitne percent nullvalues h\n",
    "(dataset.isnull().sum().sum()/(dataset.shape[0]*dataset.shape[1]))*100"
   ]
  },
  {
   "cell_type": "code",
   "execution_count": 28,
   "id": "c103b6f1",
   "metadata": {},
   "outputs": [
    {
     "data": {
      "application/vnd.microsoft.datawrangler.viewer.v0+json": {
       "columns": [
        {
         "name": "index",
         "rawType": "int64",
         "type": "integer"
        },
        {
         "name": "Index",
         "rawType": "bool",
         "type": "boolean"
        },
        {
         "name": "Customer Id",
         "rawType": "bool",
         "type": "boolean"
        },
        {
         "name": "First Name",
         "rawType": "bool",
         "type": "boolean"
        },
        {
         "name": "Last Name",
         "rawType": "bool",
         "type": "boolean"
        },
        {
         "name": "Company",
         "rawType": "bool",
         "type": "boolean"
        },
        {
         "name": "City",
         "rawType": "bool",
         "type": "boolean"
        },
        {
         "name": "Country",
         "rawType": "bool",
         "type": "boolean"
        },
        {
         "name": "Phone 1",
         "rawType": "bool",
         "type": "boolean"
        },
        {
         "name": "Phone 2",
         "rawType": "bool",
         "type": "boolean"
        },
        {
         "name": "Email",
         "rawType": "bool",
         "type": "boolean"
        },
        {
         "name": "Subscription Date",
         "rawType": "bool",
         "type": "boolean"
        },
        {
         "name": "Website",
         "rawType": "bool",
         "type": "boolean"
        }
       ],
       "ref": "85858a08-af6a-4d26-98da-f6d01fb83258",
       "rows": [
        [
         "0",
         "False",
         "False",
         "False",
         "False",
         "False",
         "False",
         "False",
         "False",
         "False",
         "False",
         "False",
         "False"
        ],
        [
         "1",
         "False",
         "False",
         "False",
         "False",
         "False",
         "False",
         "False",
         "False",
         "False",
         "False",
         "False",
         "False"
        ],
        [
         "2",
         "False",
         "False",
         "False",
         "False",
         "False",
         "False",
         "False",
         "False",
         "False",
         "False",
         "False",
         "False"
        ],
        [
         "3",
         "False",
         "False",
         "False",
         "False",
         "False",
         "False",
         "False",
         "False",
         "False",
         "False",
         "False",
         "False"
        ],
        [
         "4",
         "False",
         "False",
         "False",
         "False",
         "False",
         "False",
         "False",
         "False",
         "False",
         "False",
         "False",
         "False"
        ],
        [
         "5",
         "False",
         "False",
         "False",
         "False",
         "False",
         "False",
         "False",
         "False",
         "False",
         "False",
         "False",
         "False"
        ],
        [
         "6",
         "False",
         "False",
         "False",
         "False",
         "False",
         "False",
         "False",
         "False",
         "False",
         "False",
         "False",
         "False"
        ],
        [
         "7",
         "False",
         "False",
         "False",
         "False",
         "False",
         "False",
         "False",
         "False",
         "False",
         "False",
         "False",
         "False"
        ],
        [
         "8",
         "False",
         "False",
         "False",
         "False",
         "False",
         "False",
         "False",
         "False",
         "False",
         "False",
         "False",
         "False"
        ],
        [
         "9",
         "False",
         "False",
         "False",
         "False",
         "False",
         "False",
         "False",
         "False",
         "False",
         "False",
         "False",
         "False"
        ],
        [
         "10",
         "False",
         "False",
         "False",
         "False",
         "False",
         "False",
         "False",
         "False",
         "False",
         "False",
         "False",
         "False"
        ],
        [
         "11",
         "False",
         "False",
         "False",
         "False",
         "False",
         "False",
         "False",
         "False",
         "False",
         "False",
         "False",
         "False"
        ],
        [
         "12",
         "False",
         "False",
         "False",
         "False",
         "False",
         "False",
         "False",
         "False",
         "False",
         "False",
         "False",
         "False"
        ],
        [
         "13",
         "False",
         "False",
         "False",
         "False",
         "False",
         "False",
         "False",
         "False",
         "False",
         "False",
         "False",
         "False"
        ],
        [
         "14",
         "False",
         "False",
         "False",
         "False",
         "False",
         "False",
         "False",
         "False",
         "False",
         "False",
         "False",
         "False"
        ],
        [
         "15",
         "False",
         "False",
         "False",
         "False",
         "False",
         "False",
         "False",
         "False",
         "False",
         "False",
         "False",
         "False"
        ],
        [
         "16",
         "False",
         "False",
         "False",
         "False",
         "False",
         "False",
         "False",
         "False",
         "False",
         "False",
         "False",
         "False"
        ],
        [
         "17",
         "False",
         "False",
         "False",
         "False",
         "False",
         "False",
         "False",
         "False",
         "False",
         "False",
         "False",
         "False"
        ],
        [
         "18",
         "False",
         "False",
         "False",
         "False",
         "False",
         "False",
         "False",
         "False",
         "False",
         "False",
         "False",
         "False"
        ],
        [
         "19",
         "False",
         "False",
         "False",
         "False",
         "False",
         "False",
         "False",
         "False",
         "False",
         "False",
         "False",
         "False"
        ],
        [
         "20",
         "False",
         "False",
         "False",
         "False",
         "False",
         "False",
         "False",
         "False",
         "False",
         "False",
         "False",
         "False"
        ],
        [
         "21",
         "False",
         "False",
         "False",
         "False",
         "False",
         "False",
         "False",
         "False",
         "False",
         "False",
         "False",
         "False"
        ],
        [
         "22",
         "False",
         "False",
         "False",
         "False",
         "False",
         "False",
         "False",
         "False",
         "False",
         "False",
         "False",
         "False"
        ],
        [
         "23",
         "False",
         "False",
         "False",
         "False",
         "False",
         "False",
         "False",
         "False",
         "False",
         "False",
         "False",
         "False"
        ],
        [
         "24",
         "False",
         "False",
         "False",
         "False",
         "False",
         "False",
         "False",
         "False",
         "False",
         "False",
         "False",
         "False"
        ],
        [
         "25",
         "False",
         "False",
         "False",
         "False",
         "False",
         "False",
         "False",
         "False",
         "False",
         "False",
         "False",
         "False"
        ],
        [
         "26",
         "False",
         "False",
         "False",
         "False",
         "False",
         "False",
         "False",
         "False",
         "False",
         "False",
         "False",
         "False"
        ],
        [
         "27",
         "False",
         "False",
         "False",
         "False",
         "False",
         "False",
         "False",
         "False",
         "False",
         "False",
         "False",
         "False"
        ],
        [
         "28",
         "False",
         "False",
         "False",
         "False",
         "False",
         "False",
         "False",
         "False",
         "False",
         "False",
         "False",
         "False"
        ],
        [
         "29",
         "False",
         "False",
         "False",
         "False",
         "False",
         "False",
         "False",
         "False",
         "False",
         "False",
         "False",
         "False"
        ],
        [
         "30",
         "False",
         "False",
         "False",
         "False",
         "False",
         "False",
         "False",
         "False",
         "False",
         "False",
         "False",
         "False"
        ],
        [
         "31",
         "False",
         "False",
         "False",
         "False",
         "False",
         "False",
         "False",
         "False",
         "False",
         "False",
         "False",
         "False"
        ],
        [
         "32",
         "False",
         "False",
         "False",
         "False",
         "False",
         "False",
         "False",
         "False",
         "False",
         "False",
         "False",
         "False"
        ],
        [
         "33",
         "False",
         "False",
         "False",
         "False",
         "False",
         "False",
         "False",
         "False",
         "False",
         "False",
         "False",
         "False"
        ],
        [
         "34",
         "False",
         "False",
         "False",
         "False",
         "False",
         "False",
         "False",
         "False",
         "False",
         "False",
         "False",
         "False"
        ],
        [
         "35",
         "False",
         "False",
         "False",
         "False",
         "False",
         "False",
         "False",
         "False",
         "False",
         "False",
         "False",
         "False"
        ],
        [
         "36",
         "False",
         "False",
         "False",
         "False",
         "False",
         "False",
         "False",
         "False",
         "False",
         "False",
         "False",
         "False"
        ],
        [
         "37",
         "False",
         "False",
         "False",
         "False",
         "False",
         "False",
         "False",
         "False",
         "False",
         "False",
         "False",
         "False"
        ],
        [
         "38",
         "False",
         "False",
         "False",
         "False",
         "False",
         "False",
         "False",
         "False",
         "False",
         "False",
         "False",
         "False"
        ],
        [
         "39",
         "False",
         "False",
         "False",
         "False",
         "False",
         "False",
         "False",
         "False",
         "False",
         "False",
         "False",
         "False"
        ],
        [
         "40",
         "False",
         "False",
         "False",
         "False",
         "False",
         "False",
         "False",
         "False",
         "False",
         "False",
         "False",
         "False"
        ],
        [
         "41",
         "False",
         "False",
         "False",
         "False",
         "False",
         "False",
         "False",
         "False",
         "False",
         "False",
         "False",
         "False"
        ],
        [
         "42",
         "False",
         "False",
         "False",
         "False",
         "False",
         "False",
         "False",
         "False",
         "False",
         "False",
         "False",
         "False"
        ],
        [
         "43",
         "False",
         "False",
         "False",
         "False",
         "False",
         "False",
         "False",
         "False",
         "False",
         "False",
         "False",
         "False"
        ],
        [
         "44",
         "False",
         "False",
         "False",
         "False",
         "False",
         "False",
         "False",
         "False",
         "False",
         "False",
         "False",
         "False"
        ],
        [
         "45",
         "False",
         "False",
         "False",
         "False",
         "False",
         "False",
         "False",
         "False",
         "False",
         "False",
         "False",
         "False"
        ],
        [
         "46",
         "False",
         "False",
         "False",
         "False",
         "False",
         "False",
         "False",
         "False",
         "False",
         "False",
         "False",
         "False"
        ],
        [
         "47",
         "False",
         "False",
         "False",
         "False",
         "False",
         "False",
         "False",
         "False",
         "False",
         "False",
         "False",
         "False"
        ],
        [
         "48",
         "False",
         "False",
         "False",
         "False",
         "False",
         "False",
         "False",
         "False",
         "False",
         "False",
         "False",
         "False"
        ],
        [
         "49",
         "False",
         "False",
         "False",
         "False",
         "False",
         "False",
         "False",
         "False",
         "False",
         "False",
         "False",
         "False"
        ]
       ],
       "shape": {
        "columns": 12,
        "rows": 100000
       }
      },
      "text/html": [
       "<div>\n",
       "<style scoped>\n",
       "    .dataframe tbody tr th:only-of-type {\n",
       "        vertical-align: middle;\n",
       "    }\n",
       "\n",
       "    .dataframe tbody tr th {\n",
       "        vertical-align: top;\n",
       "    }\n",
       "\n",
       "    .dataframe thead th {\n",
       "        text-align: right;\n",
       "    }\n",
       "</style>\n",
       "<table border=\"1\" class=\"dataframe\">\n",
       "  <thead>\n",
       "    <tr style=\"text-align: right;\">\n",
       "      <th></th>\n",
       "      <th>Index</th>\n",
       "      <th>Customer Id</th>\n",
       "      <th>First Name</th>\n",
       "      <th>Last Name</th>\n",
       "      <th>Company</th>\n",
       "      <th>City</th>\n",
       "      <th>Country</th>\n",
       "      <th>Phone 1</th>\n",
       "      <th>Phone 2</th>\n",
       "      <th>Email</th>\n",
       "      <th>Subscription Date</th>\n",
       "      <th>Website</th>\n",
       "    </tr>\n",
       "  </thead>\n",
       "  <tbody>\n",
       "    <tr>\n",
       "      <th>0</th>\n",
       "      <td>False</td>\n",
       "      <td>False</td>\n",
       "      <td>False</td>\n",
       "      <td>False</td>\n",
       "      <td>False</td>\n",
       "      <td>False</td>\n",
       "      <td>False</td>\n",
       "      <td>False</td>\n",
       "      <td>False</td>\n",
       "      <td>False</td>\n",
       "      <td>False</td>\n",
       "      <td>False</td>\n",
       "    </tr>\n",
       "    <tr>\n",
       "      <th>1</th>\n",
       "      <td>False</td>\n",
       "      <td>False</td>\n",
       "      <td>False</td>\n",
       "      <td>False</td>\n",
       "      <td>False</td>\n",
       "      <td>False</td>\n",
       "      <td>False</td>\n",
       "      <td>False</td>\n",
       "      <td>False</td>\n",
       "      <td>False</td>\n",
       "      <td>False</td>\n",
       "      <td>False</td>\n",
       "    </tr>\n",
       "    <tr>\n",
       "      <th>2</th>\n",
       "      <td>False</td>\n",
       "      <td>False</td>\n",
       "      <td>False</td>\n",
       "      <td>False</td>\n",
       "      <td>False</td>\n",
       "      <td>False</td>\n",
       "      <td>False</td>\n",
       "      <td>False</td>\n",
       "      <td>False</td>\n",
       "      <td>False</td>\n",
       "      <td>False</td>\n",
       "      <td>False</td>\n",
       "    </tr>\n",
       "    <tr>\n",
       "      <th>3</th>\n",
       "      <td>False</td>\n",
       "      <td>False</td>\n",
       "      <td>False</td>\n",
       "      <td>False</td>\n",
       "      <td>False</td>\n",
       "      <td>False</td>\n",
       "      <td>False</td>\n",
       "      <td>False</td>\n",
       "      <td>False</td>\n",
       "      <td>False</td>\n",
       "      <td>False</td>\n",
       "      <td>False</td>\n",
       "    </tr>\n",
       "    <tr>\n",
       "      <th>4</th>\n",
       "      <td>False</td>\n",
       "      <td>False</td>\n",
       "      <td>False</td>\n",
       "      <td>False</td>\n",
       "      <td>False</td>\n",
       "      <td>False</td>\n",
       "      <td>False</td>\n",
       "      <td>False</td>\n",
       "      <td>False</td>\n",
       "      <td>False</td>\n",
       "      <td>False</td>\n",
       "      <td>False</td>\n",
       "    </tr>\n",
       "    <tr>\n",
       "      <th>...</th>\n",
       "      <td>...</td>\n",
       "      <td>...</td>\n",
       "      <td>...</td>\n",
       "      <td>...</td>\n",
       "      <td>...</td>\n",
       "      <td>...</td>\n",
       "      <td>...</td>\n",
       "      <td>...</td>\n",
       "      <td>...</td>\n",
       "      <td>...</td>\n",
       "      <td>...</td>\n",
       "      <td>...</td>\n",
       "    </tr>\n",
       "    <tr>\n",
       "      <th>99995</th>\n",
       "      <td>False</td>\n",
       "      <td>False</td>\n",
       "      <td>False</td>\n",
       "      <td>False</td>\n",
       "      <td>False</td>\n",
       "      <td>False</td>\n",
       "      <td>False</td>\n",
       "      <td>False</td>\n",
       "      <td>False</td>\n",
       "      <td>False</td>\n",
       "      <td>False</td>\n",
       "      <td>False</td>\n",
       "    </tr>\n",
       "    <tr>\n",
       "      <th>99996</th>\n",
       "      <td>False</td>\n",
       "      <td>False</td>\n",
       "      <td>False</td>\n",
       "      <td>False</td>\n",
       "      <td>False</td>\n",
       "      <td>False</td>\n",
       "      <td>False</td>\n",
       "      <td>False</td>\n",
       "      <td>False</td>\n",
       "      <td>False</td>\n",
       "      <td>False</td>\n",
       "      <td>False</td>\n",
       "    </tr>\n",
       "    <tr>\n",
       "      <th>99997</th>\n",
       "      <td>False</td>\n",
       "      <td>False</td>\n",
       "      <td>False</td>\n",
       "      <td>False</td>\n",
       "      <td>False</td>\n",
       "      <td>False</td>\n",
       "      <td>False</td>\n",
       "      <td>False</td>\n",
       "      <td>False</td>\n",
       "      <td>False</td>\n",
       "      <td>False</td>\n",
       "      <td>False</td>\n",
       "    </tr>\n",
       "    <tr>\n",
       "      <th>99998</th>\n",
       "      <td>False</td>\n",
       "      <td>False</td>\n",
       "      <td>False</td>\n",
       "      <td>False</td>\n",
       "      <td>False</td>\n",
       "      <td>False</td>\n",
       "      <td>False</td>\n",
       "      <td>False</td>\n",
       "      <td>False</td>\n",
       "      <td>False</td>\n",
       "      <td>False</td>\n",
       "      <td>False</td>\n",
       "    </tr>\n",
       "    <tr>\n",
       "      <th>99999</th>\n",
       "      <td>False</td>\n",
       "      <td>False</td>\n",
       "      <td>False</td>\n",
       "      <td>False</td>\n",
       "      <td>False</td>\n",
       "      <td>False</td>\n",
       "      <td>False</td>\n",
       "      <td>False</td>\n",
       "      <td>False</td>\n",
       "      <td>False</td>\n",
       "      <td>False</td>\n",
       "      <td>False</td>\n",
       "    </tr>\n",
       "  </tbody>\n",
       "</table>\n",
       "<p>100000 rows × 12 columns</p>\n",
       "</div>"
      ],
      "text/plain": [
       "       Index  Customer Id  First Name  Last Name  Company   City  Country  \\\n",
       "0      False        False       False      False    False  False    False   \n",
       "1      False        False       False      False    False  False    False   \n",
       "2      False        False       False      False    False  False    False   \n",
       "3      False        False       False      False    False  False    False   \n",
       "4      False        False       False      False    False  False    False   \n",
       "...      ...          ...         ...        ...      ...    ...      ...   \n",
       "99995  False        False       False      False    False  False    False   \n",
       "99996  False        False       False      False    False  False    False   \n",
       "99997  False        False       False      False    False  False    False   \n",
       "99998  False        False       False      False    False  False    False   \n",
       "99999  False        False       False      False    False  False    False   \n",
       "\n",
       "       Phone 1  Phone 2  Email  Subscription Date  Website  \n",
       "0        False    False  False              False    False  \n",
       "1        False    False  False              False    False  \n",
       "2        False    False  False              False    False  \n",
       "3        False    False  False              False    False  \n",
       "4        False    False  False              False    False  \n",
       "...        ...      ...    ...                ...      ...  \n",
       "99995    False    False  False              False    False  \n",
       "99996    False    False  False              False    False  \n",
       "99997    False    False  False              False    False  \n",
       "99998    False    False  False              False    False  \n",
       "99999    False    False  False              False    False  \n",
       "\n",
       "[100000 rows x 12 columns]"
      ]
     },
     "execution_count": 28,
     "metadata": {},
     "output_type": "execute_result"
    }
   ],
   "source": [
    "dataset.isnull()"
   ]
  },
  {
   "cell_type": "code",
   "execution_count": 29,
   "id": "be9f7a23",
   "metadata": {},
   "outputs": [
    {
     "data": {
      "application/vnd.microsoft.datawrangler.viewer.v0+json": {
       "columns": [
        {
         "name": "index",
         "rawType": "object",
         "type": "string"
        },
        {
         "name": "0",
         "rawType": "int64",
         "type": "integer"
        }
       ],
       "ref": "b61417d2-7b3b-4741-a71e-df81e94d3f95",
       "rows": [
        [
         "Index",
         "0"
        ],
        [
         "Customer Id",
         "0"
        ],
        [
         "First Name",
         "0"
        ],
        [
         "Last Name",
         "0"
        ],
        [
         "Company",
         "0"
        ],
        [
         "City",
         "0"
        ],
        [
         "Country",
         "0"
        ],
        [
         "Phone 1",
         "0"
        ],
        [
         "Phone 2",
         "0"
        ],
        [
         "Email",
         "0"
        ],
        [
         "Subscription Date",
         "0"
        ],
        [
         "Website",
         "0"
        ]
       ],
       "shape": {
        "columns": 1,
        "rows": 12
       }
      },
      "text/plain": [
       "Index                0\n",
       "Customer Id          0\n",
       "First Name           0\n",
       "Last Name            0\n",
       "Company              0\n",
       "City                 0\n",
       "Country              0\n",
       "Phone 1              0\n",
       "Phone 2              0\n",
       "Email                0\n",
       "Subscription Date    0\n",
       "Website              0\n",
       "dtype: int64"
      ]
     },
     "execution_count": 29,
     "metadata": {},
     "output_type": "execute_result"
    }
   ],
   "source": [
    "dataset.isnull().sum()"
   ]
  },
  {
   "cell_type": "code",
   "execution_count": 30,
   "id": "b26de609",
   "metadata": {},
   "outputs": [
    {
     "data": {
      "application/vnd.microsoft.datawrangler.viewer.v0+json": {
       "columns": [
        {
         "name": "index",
         "rawType": "object",
         "type": "string"
        },
        {
         "name": "0",
         "rawType": "float64",
         "type": "float"
        }
       ],
       "ref": "fabc6533-a54b-4f0a-8f81-b941c10728d6",
       "rows": [
        [
         "Index",
         "0.0"
        ],
        [
         "Customer Id",
         "0.0"
        ],
        [
         "First Name",
         "0.0"
        ],
        [
         "Last Name",
         "0.0"
        ],
        [
         "Company",
         "0.0"
        ],
        [
         "City",
         "0.0"
        ],
        [
         "Country",
         "0.0"
        ],
        [
         "Phone 1",
         "0.0"
        ],
        [
         "Phone 2",
         "0.0"
        ],
        [
         "Email",
         "0.0"
        ],
        [
         "Subscription Date",
         "0.0"
        ],
        [
         "Website",
         "0.0"
        ]
       ],
       "shape": {
        "columns": 1,
        "rows": 12
       }
      },
      "text/plain": [
       "Index                0.0\n",
       "Customer Id          0.0\n",
       "First Name           0.0\n",
       "Last Name            0.0\n",
       "Company              0.0\n",
       "City                 0.0\n",
       "Country              0.0\n",
       "Phone 1              0.0\n",
       "Phone 2              0.0\n",
       "Email                0.0\n",
       "Subscription Date    0.0\n",
       "Website              0.0\n",
       "dtype: float64"
      ]
     },
     "execution_count": 30,
     "metadata": {},
     "output_type": "execute_result"
    }
   ],
   "source": [
    "# used for kis kis data k andar null value present h\n",
    "(dataset.isnull().sum()/dataset.shape[0])*100\n"
   ]
  },
  {
   "cell_type": "code",
   "execution_count": 31,
   "id": "9491ea57",
   "metadata": {},
   "outputs": [
    {
     "data": {
      "application/vnd.microsoft.datawrangler.viewer.v0+json": {
       "columns": [
        {
         "name": "index",
         "rawType": "object",
         "type": "string"
        },
        {
         "name": "0",
         "rawType": "int64",
         "type": "integer"
        }
       ],
       "ref": "4bed4129-1395-49e5-84db-5408ed4e9ccb",
       "rows": [
        [
         "Index",
         "100000"
        ],
        [
         "Customer Id",
         "100000"
        ],
        [
         "First Name",
         "100000"
        ],
        [
         "Last Name",
         "100000"
        ],
        [
         "Company",
         "100000"
        ],
        [
         "City",
         "100000"
        ],
        [
         "Country",
         "100000"
        ],
        [
         "Phone 1",
         "100000"
        ],
        [
         "Phone 2",
         "100000"
        ],
        [
         "Email",
         "100000"
        ],
        [
         "Subscription Date",
         "100000"
        ],
        [
         "Website",
         "100000"
        ]
       ],
       "shape": {
        "columns": 1,
        "rows": 12
       }
      },
      "text/plain": [
       "Index                100000\n",
       "Customer Id          100000\n",
       "First Name           100000\n",
       "Last Name            100000\n",
       "Company              100000\n",
       "City                 100000\n",
       "Country              100000\n",
       "Phone 1              100000\n",
       "Phone 2              100000\n",
       "Email                100000\n",
       "Subscription Date    100000\n",
       "Website              100000\n",
       "dtype: int64"
      ]
     },
     "execution_count": 31,
     "metadata": {},
     "output_type": "execute_result"
    }
   ],
   "source": [
    "#used for findig the not null data\n",
    "dataset.notnull().sum()"
   ]
  },
  {
   "cell_type": "code",
   "execution_count": 32,
   "id": "8b4201a8",
   "metadata": {},
   "outputs": [
    {
     "data": {
      "text/plain": [
       "np.int64(1200000)"
      ]
     },
     "execution_count": 32,
     "metadata": {},
     "output_type": "execute_result"
    }
   ],
   "source": [
    "dataset.notnull().sum().sum()"
   ]
  },
  {
   "cell_type": "code",
   "execution_count": 33,
   "id": "06a22da9",
   "metadata": {},
   "outputs": [
    {
     "data": {
      "image/png": "[encoded data removed]",
      "text/plain": [
       "<Figure size 640x480 with 2 Axes>"
      ]
     },
     "metadata": {},
     "output_type": "display_data"
    }
   ],
   "source": [
    "sns.heatmap(dataset.isnull())\n",
    "plt.show()"
   ]
  },
  {
   "cell_type": "code",
   "execution_count": null,
   "id": "cea390ff",
   "metadata": {},
   "outputs": [],
   "source": []
  }
 ],
 "metadata": {
  "kernelspec": {
   "display_name": "Python 3 (ipykernel)",
   "language": "python",
   "name": "python3"
  },
  "language_info": {
   "codemirror_mode": {
    "name": "ipython",
    "version": 3
   },
   "file_extension": ".py",
   "mimetype": "text/x-python",
   "name": "python",
   "nbconvert_exporter": "python",
   "pygments_lexer": "ipython3",
   "version": "3.11.4"
  },
  "widgets": {
   "application/vnd.jupyter.widget-state+json": {
    "state": {},
    "version_major": 2,
    "version_minor": 0
   }
  }
 },
 "nbformat": 4,
 "nbformat_minor": 5
}
