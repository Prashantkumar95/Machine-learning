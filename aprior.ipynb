{
 "cells": [
  {
   "cell_type": "code",
   "execution_count": 1,
   "id": "e8a4717a",
   "metadata": {},
   "outputs": [],
   "source": [
    "import pandas as pd\n",
    "import matplotlib.pyplot as plt\n",
    "import seaborn as sns"
   ]
  },
  {
   "cell_type": "code",
   "execution_count": 5,
   "id": "49cc3da8",
   "metadata": {},
   "outputs": [
    {
     "data": {
      "application/vnd.microsoft.datawrangler.viewer.v0+json": {
       "columns": [
        {
         "name": "index",
         "rawType": "int64",
         "type": "integer"
        },
        {
         "name": "Product_Name",
         "rawType": "object",
         "type": "string"
        },
        {
         "name": "Catagory",
         "rawType": "object",
         "type": "string"
        },
        {
         "name": "Supplier_Name",
         "rawType": "object",
         "type": "string"
        },
        {
         "name": "Warehouse_Location",
         "rawType": "object",
         "type": "string"
        },
        {
         "name": "Status",
         "rawType": "object",
         "type": "string"
        },
        {
         "name": "Product_ID",
         "rawType": "object",
         "type": "string"
        },
        {
         "name": "Supplier_ID",
         "rawType": "object",
         "type": "string"
        },
        {
         "name": "Date_Received",
         "rawType": "object",
         "type": "string"
        },
        {
         "name": "Last_Order_Date",
         "rawType": "object",
         "type": "string"
        },
        {
         "name": "Expiration_Date",
         "rawType": "object",
         "type": "string"
        },
        {
         "name": "Stock_Quantity",
         "rawType": "int64",
         "type": "integer"
        },
        {
         "name": "Reorder_Level",
         "rawType": "int64",
         "type": "integer"
        },
        {
         "name": "Reorder_Quantity",
         "rawType": "int64",
         "type": "integer"
        },
        {
         "name": "Unit_Price",
         "rawType": "object",
         "type": "string"
        },
        {
         "name": "Sales_Volume",
         "rawType": "int64",
         "type": "integer"
        },
        {
         "name": "Inventory_Turnover_Rate",
         "rawType": "int64",
         "type": "integer"
        },
        {
         "name": "percentage",
         "rawType": "object",
         "type": "string"
        }
       ],
       "ref": "60bd99ad-9b00-4523-b3c7-99387466e810",
       "rows": [
        [
         "0",
         "Bell Pepper",
         "Fruits & Vegetables",
         "Eimbee",
         "20 Pennsylvania Parkway",
         "Discontinued",
         "29-017-6255",
         "43-348-2450",
         "3/1/2024",
         "1/6/2025",
         "1/31/2025",
         "46",
         "64",
         "17",
         "$4.60",
         "96",
         "55",
         "1.96%"
        ],
        [
         "1",
         "Vegetable Oil",
         "Oils & Fats",
         "Digitube",
         "03643 Oakridge Lane",
         "Backordered",
         "79-569-8856",
         "04-854-7165",
         "4/1/2024",
         "5/19/2024",
         "6/11/2024",
         "51",
         "87",
         "86",
         "$2.00",
         "24",
         "83",
         "0.91%"
        ],
        [
         "2",
         "Parmesan Cheese",
         "Dairy",
         "BlogXS",
         "73 Graedel Street",
         "Discontinued",
         "28-146-2641",
         "82-995-0739",
         "4/1/2024",
         "12/21/2024",
         "4/8/2024",
         "38",
         "67",
         "66",
         "$12.00",
         "35",
         "24",
         "1.36%"
        ],
        [
         "3",
         "Carrot",
         "Fruits & Vegetables",
         "Avaveo",
         "44801 Myrtle Center",
         "Discontinued",
         "11-581-9869",
         "22-867-3079",
         "5/1/2024",
         "12/12/2024",
         "9/26/2024",
         "51",
         "60",
         "98",
         "$1.50",
         "44",
         "95",
         "1.36%"
        ],
        [
         "4",
         "Garlic",
         "Fruits & Vegetables",
         "Katz",
         "6195 Monterey Center",
         "Discontinued",
         "13-202-4809",
         "24-281-7685",
         "5/1/2024",
         "7/28/2024",
         "5/20/2024",
         "27",
         "22",
         "89",
         "$7.00",
         "91",
         "77",
         "2.17%"
        ]
       ],
       "shape": {
        "columns": 17,
        "rows": 5
       }
      },
      "text/html": [
       "<div>\n",
       "<style scoped>\n",
       "    .dataframe tbody tr th:only-of-type {\n",
       "        vertical-align: middle;\n",
       "    }\n",
       "\n",
       "    .dataframe tbody tr th {\n",
       "        vertical-align: top;\n",
       "    }\n",
       "\n",
       "    .dataframe thead th {\n",
       "        text-align: right;\n",
       "    }\n",
       "</style>\n",
       "<table border=\"1\" class=\"dataframe\">\n",
       "  <thead>\n",
       "    <tr style=\"text-align: right;\">\n",
       "      <th></th>\n",
       "      <th>Product_Name</th>\n",
       "      <th>Catagory</th>\n",
       "      <th>Supplier_Name</th>\n",
       "      <th>Warehouse_Location</th>\n",
       "      <th>Status</th>\n",
       "      <th>Product_ID</th>\n",
       "      <th>Supplier_ID</th>\n",
       "      <th>Date_Received</th>\n",
       "      <th>Last_Order_Date</th>\n",
       "      <th>Expiration_Date</th>\n",
       "      <th>Stock_Quantity</th>\n",
       "      <th>Reorder_Level</th>\n",
       "      <th>Reorder_Quantity</th>\n",
       "      <th>Unit_Price</th>\n",
       "      <th>Sales_Volume</th>\n",
       "      <th>Inventory_Turnover_Rate</th>\n",
       "      <th>percentage</th>\n",
       "    </tr>\n",
       "  </thead>\n",
       "  <tbody>\n",
       "    <tr>\n",
       "      <th>0</th>\n",
       "      <td>Bell Pepper</td>\n",
       "      <td>Fruits &amp; Vegetables</td>\n",
       "      <td>Eimbee</td>\n",
       "      <td>20 Pennsylvania Parkway</td>\n",
       "      <td>Discontinued</td>\n",
       "      <td>29-017-6255</td>\n",
       "      <td>43-348-2450</td>\n",
       "      <td>3/1/2024</td>\n",
       "      <td>1/6/2025</td>\n",
       "      <td>1/31/2025</td>\n",
       "      <td>46</td>\n",
       "      <td>64</td>\n",
       "      <td>17</td>\n",
       "      <td>$4.60</td>\n",
       "      <td>96</td>\n",
       "      <td>55</td>\n",
       "      <td>1.96%</td>\n",
       "    </tr>\n",
       "    <tr>\n",
       "      <th>1</th>\n",
       "      <td>Vegetable Oil</td>\n",
       "      <td>Oils &amp; Fats</td>\n",
       "      <td>Digitube</td>\n",
       "      <td>03643 Oakridge Lane</td>\n",
       "      <td>Backordered</td>\n",
       "      <td>79-569-8856</td>\n",
       "      <td>04-854-7165</td>\n",
       "      <td>4/1/2024</td>\n",
       "      <td>5/19/2024</td>\n",
       "      <td>6/11/2024</td>\n",
       "      <td>51</td>\n",
       "      <td>87</td>\n",
       "      <td>86</td>\n",
       "      <td>$2.00</td>\n",
       "      <td>24</td>\n",
       "      <td>83</td>\n",
       "      <td>0.91%</td>\n",
       "    </tr>\n",
       "    <tr>\n",
       "      <th>2</th>\n",
       "      <td>Parmesan Cheese</td>\n",
       "      <td>Dairy</td>\n",
       "      <td>BlogXS</td>\n",
       "      <td>73 Graedel Street</td>\n",
       "      <td>Discontinued</td>\n",
       "      <td>28-146-2641</td>\n",
       "      <td>82-995-0739</td>\n",
       "      <td>4/1/2024</td>\n",
       "      <td>12/21/2024</td>\n",
       "      <td>4/8/2024</td>\n",
       "      <td>38</td>\n",
       "      <td>67</td>\n",
       "      <td>66</td>\n",
       "      <td>$12.00</td>\n",
       "      <td>35</td>\n",
       "      <td>24</td>\n",
       "      <td>1.36%</td>\n",
       "    </tr>\n",
       "    <tr>\n",
       "      <th>3</th>\n",
       "      <td>Carrot</td>\n",
       "      <td>Fruits &amp; Vegetables</td>\n",
       "      <td>Avaveo</td>\n",
       "      <td>44801 Myrtle Center</td>\n",
       "      <td>Discontinued</td>\n",
       "      <td>11-581-9869</td>\n",
       "      <td>22-867-3079</td>\n",
       "      <td>5/1/2024</td>\n",
       "      <td>12/12/2024</td>\n",
       "      <td>9/26/2024</td>\n",
       "      <td>51</td>\n",
       "      <td>60</td>\n",
       "      <td>98</td>\n",
       "      <td>$1.50</td>\n",
       "      <td>44</td>\n",
       "      <td>95</td>\n",
       "      <td>1.36%</td>\n",
       "    </tr>\n",
       "    <tr>\n",
       "      <th>4</th>\n",
       "      <td>Garlic</td>\n",
       "      <td>Fruits &amp; Vegetables</td>\n",
       "      <td>Katz</td>\n",
       "      <td>6195 Monterey Center</td>\n",
       "      <td>Discontinued</td>\n",
       "      <td>13-202-4809</td>\n",
       "      <td>24-281-7685</td>\n",
       "      <td>5/1/2024</td>\n",
       "      <td>7/28/2024</td>\n",
       "      <td>5/20/2024</td>\n",
       "      <td>27</td>\n",
       "      <td>22</td>\n",
       "      <td>89</td>\n",
       "      <td>$7.00</td>\n",
       "      <td>91</td>\n",
       "      <td>77</td>\n",
       "      <td>2.17%</td>\n",
       "    </tr>\n",
       "  </tbody>\n",
       "</table>\n",
       "</div>"
      ],
      "text/plain": [
       "      Product_Name             Catagory Supplier_Name  \\\n",
       "0      Bell Pepper  Fruits & Vegetables        Eimbee   \n",
       "1    Vegetable Oil          Oils & Fats      Digitube   \n",
       "2  Parmesan Cheese                Dairy        BlogXS   \n",
       "3           Carrot  Fruits & Vegetables        Avaveo   \n",
       "4           Garlic  Fruits & Vegetables          Katz   \n",
       "\n",
       "        Warehouse_Location        Status   Product_ID  Supplier_ID  \\\n",
       "0  20 Pennsylvania Parkway  Discontinued  29-017-6255  43-348-2450   \n",
       "1      03643 Oakridge Lane   Backordered  79-569-8856  04-854-7165   \n",
       "2        73 Graedel Street  Discontinued  28-146-2641  82-995-0739   \n",
       "3      44801 Myrtle Center  Discontinued  11-581-9869  22-867-3079   \n",
       "4     6195 Monterey Center  Discontinued  13-202-4809  24-281-7685   \n",
       "\n",
       "  Date_Received Last_Order_Date Expiration_Date  Stock_Quantity  \\\n",
       "0      3/1/2024        1/6/2025       1/31/2025              46   \n",
       "1      4/1/2024       5/19/2024       6/11/2024              51   \n",
       "2      4/1/2024      12/21/2024        4/8/2024              38   \n",
       "3      5/1/2024      12/12/2024       9/26/2024              51   \n",
       "4      5/1/2024       7/28/2024       5/20/2024              27   \n",
       "\n",
       "   Reorder_Level  Reorder_Quantity Unit_Price  Sales_Volume  \\\n",
       "0             64                17      $4.60            96   \n",
       "1             87                86      $2.00            24   \n",
       "2             67                66     $12.00            35   \n",
       "3             60                98      $1.50            44   \n",
       "4             22                89      $7.00            91   \n",
       "\n",
       "   Inventory_Turnover_Rate percentage  \n",
       "0                       55      1.96%  \n",
       "1                       83      0.91%  \n",
       "2                       24      1.36%  \n",
       "3                       95      1.36%  \n",
       "4                       77      2.17%  "
      ]
     },
     "execution_count": 5,
     "metadata": {},
     "output_type": "execute_result"
    }
   ],
   "source": [
    "dataset=pd.read_csv(r\"C:\\Users\\HP\\OneDrive\\Desktop\\Machine learning\\Grocery_Inventory new v1.csv\")\n",
    "dataset.head(5)"
   ]
  },
  {
   "cell_type": "code",
   "execution_count": null,
   "id": "b56bd0ac",
   "metadata": {},
   "outputs": [],
   "source": []
  }
 ],
 "metadata": {
  "kernelspec": {
   "display_name": "Python 3",
   "language": "python",
   "name": "python3"
  },
  "language_info": {
   "codemirror_mode": {
    "name": "ipython",
    "version": 3
   },
   "file_extension": ".py",
   "mimetype": "text/x-python",
   "name": "python",
   "nbconvert_exporter": "python",
   "pygments_lexer": "ipython3",
   "version": "3.11.4"
  },
  "widgets": {
   "application/vnd.jupyter.widget-state+json": {
    "state": {},
    "version_major": 2,
    "version_minor": 0
   }
  }
 },
 "nbformat": 4,
 "nbformat_minor": 5
}
