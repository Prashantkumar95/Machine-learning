{
 "cells": [
  {
   "cell_type": "code",
   "execution_count": 7,
   "id": "5901b474",
   "metadata": {},
   "outputs": [],
   "source": [
    "import pandas as pd\n",
    "import matplotlib.pyplot as plt\n",
    "import seaborn as sns\n",
    "from sklearn.preprocessing import StandardScaler"
   ]
  },
  {
   "cell_type": "code",
   "execution_count": 2,
   "id": "a03644f5",
   "metadata": {},
   "outputs": [
    {
     "data": {
      "application/vnd.microsoft.datawrangler.viewer.v0+json": {
       "columns": [
        {
         "name": "index",
         "rawType": "int64",
         "type": "integer"
        },
        {
         "name": "RowNumber",
         "rawType": "int64",
         "type": "integer"
        },
        {
         "name": "CustomerId",
         "rawType": "int64",
         "type": "integer"
        },
        {
         "name": "Surname",
         "rawType": "object",
         "type": "string"
        },
        {
         "name": "CreditScore",
         "rawType": "int64",
         "type": "integer"
        },
        {
         "name": "Geography",
         "rawType": "object",
         "type": "string"
        },
        {
         "name": "Gender",
         "rawType": "object",
         "type": "string"
        },
        {
         "name": "Age",
         "rawType": "int64",
         "type": "integer"
        },
        {
         "name": "Tenure",
         "rawType": "int64",
         "type": "integer"
        },
        {
         "name": "Balance",
         "rawType": "float64",
         "type": "float"
        },
        {
         "name": "NumOfProducts",
         "rawType": "int64",
         "type": "integer"
        },
        {
         "name": "HasCrCard",
         "rawType": "int64",
         "type": "integer"
        },
        {
         "name": "IsActiveMember",
         "rawType": "int64",
         "type": "integer"
        },
        {
         "name": "EstimatedSalary",
         "rawType": "float64",
         "type": "float"
        },
        {
         "name": "Exited",
         "rawType": "int64",
         "type": "integer"
        }
       ],
       "ref": "7c7b51e4-6f1a-412d-b0ed-741df04734e9",
       "rows": [
        [
         "0",
         "1",
         "15634602",
         "Hargrave",
         "619",
         "France",
         "Female",
         "42",
         "2",
         "0.0",
         "1",
         "1",
         "1",
         "101348.88",
         "1"
        ],
        [
         "1",
         "2",
         "15647311",
         "Hill",
         "608",
         "Spain",
         "Female",
         "41",
         "1",
         "83807.86",
         "1",
         "0",
         "1",
         "112542.58",
         "0"
        ],
        [
         "2",
         "3",
         "15619304",
         "Onio",
         "502",
         "France",
         "Female",
         "42",
         "8",
         "159660.8",
         "3",
         "1",
         "0",
         "113931.57",
         "1"
        ],
        [
         "3",
         "4",
         "15701354",
         "Boni",
         "699",
         "France",
         "Female",
         "39",
         "1",
         "0.0",
         "2",
         "0",
         "0",
         "93826.63",
         "0"
        ],
        [
         "4",
         "5",
         "15737888",
         "Mitchell",
         "850",
         "Spain",
         "Female",
         "43",
         "2",
         "125510.82",
         "1",
         "1",
         "1",
         "79084.1",
         "0"
        ]
       ],
       "shape": {
        "columns": 14,
        "rows": 5
       }
      },
      "text/html": [
       "<div>\n",
       "<style scoped>\n",
       "    .dataframe tbody tr th:only-of-type {\n",
       "        vertical-align: middle;\n",
       "    }\n",
       "\n",
       "    .dataframe tbody tr th {\n",
       "        vertical-align: top;\n",
       "    }\n",
       "\n",
       "    .dataframe thead th {\n",
       "        text-align: right;\n",
       "    }\n",
       "</style>\n",
       "<table border=\"1\" class=\"dataframe\">\n",
       "  <thead>\n",
       "    <tr style=\"text-align: right;\">\n",
       "      <th></th>\n",
       "      <th>RowNumber</th>\n",
       "      <th>CustomerId</th>\n",
       "      <th>Surname</th>\n",
       "      <th>CreditScore</th>\n",
       "      <th>Geography</th>\n",
       "      <th>Gender</th>\n",
       "      <th>Age</th>\n",
       "      <th>Tenure</th>\n",
       "      <th>Balance</th>\n",
       "      <th>NumOfProducts</th>\n",
       "      <th>HasCrCard</th>\n",
       "      <th>IsActiveMember</th>\n",
       "      <th>EstimatedSalary</th>\n",
       "      <th>Exited</th>\n",
       "    </tr>\n",
       "  </thead>\n",
       "  <tbody>\n",
       "    <tr>\n",
       "      <th>0</th>\n",
       "      <td>1</td>\n",
       "      <td>15634602</td>\n",
       "      <td>Hargrave</td>\n",
       "      <td>619</td>\n",
       "      <td>France</td>\n",
       "      <td>Female</td>\n",
       "      <td>42</td>\n",
       "      <td>2</td>\n",
       "      <td>0.00</td>\n",
       "      <td>1</td>\n",
       "      <td>1</td>\n",
       "      <td>1</td>\n",
       "      <td>101348.88</td>\n",
       "      <td>1</td>\n",
       "    </tr>\n",
       "    <tr>\n",
       "      <th>1</th>\n",
       "      <td>2</td>\n",
       "      <td>15647311</td>\n",
       "      <td>Hill</td>\n",
       "      <td>608</td>\n",
       "      <td>Spain</td>\n",
       "      <td>Female</td>\n",
       "      <td>41</td>\n",
       "      <td>1</td>\n",
       "      <td>83807.86</td>\n",
       "      <td>1</td>\n",
       "      <td>0</td>\n",
       "      <td>1</td>\n",
       "      <td>112542.58</td>\n",
       "      <td>0</td>\n",
       "    </tr>\n",
       "    <tr>\n",
       "      <th>2</th>\n",
       "      <td>3</td>\n",
       "      <td>15619304</td>\n",
       "      <td>Onio</td>\n",
       "      <td>502</td>\n",
       "      <td>France</td>\n",
       "      <td>Female</td>\n",
       "      <td>42</td>\n",
       "      <td>8</td>\n",
       "      <td>159660.80</td>\n",
       "      <td>3</td>\n",
       "      <td>1</td>\n",
       "      <td>0</td>\n",
       "      <td>113931.57</td>\n",
       "      <td>1</td>\n",
       "    </tr>\n",
       "    <tr>\n",
       "      <th>3</th>\n",
       "      <td>4</td>\n",
       "      <td>15701354</td>\n",
       "      <td>Boni</td>\n",
       "      <td>699</td>\n",
       "      <td>France</td>\n",
       "      <td>Female</td>\n",
       "      <td>39</td>\n",
       "      <td>1</td>\n",
       "      <td>0.00</td>\n",
       "      <td>2</td>\n",
       "      <td>0</td>\n",
       "      <td>0</td>\n",
       "      <td>93826.63</td>\n",
       "      <td>0</td>\n",
       "    </tr>\n",
       "    <tr>\n",
       "      <th>4</th>\n",
       "      <td>5</td>\n",
       "      <td>15737888</td>\n",
       "      <td>Mitchell</td>\n",
       "      <td>850</td>\n",
       "      <td>Spain</td>\n",
       "      <td>Female</td>\n",
       "      <td>43</td>\n",
       "      <td>2</td>\n",
       "      <td>125510.82</td>\n",
       "      <td>1</td>\n",
       "      <td>1</td>\n",
       "      <td>1</td>\n",
       "      <td>79084.10</td>\n",
       "      <td>0</td>\n",
       "    </tr>\n",
       "  </tbody>\n",
       "</table>\n",
       "</div>"
      ],
      "text/plain": [
       "   RowNumber  CustomerId   Surname  CreditScore Geography  Gender  Age  \\\n",
       "0          1    15634602  Hargrave          619    France  Female   42   \n",
       "1          2    15647311      Hill          608     Spain  Female   41   \n",
       "2          3    15619304      Onio          502    France  Female   42   \n",
       "3          4    15701354      Boni          699    France  Female   39   \n",
       "4          5    15737888  Mitchell          850     Spain  Female   43   \n",
       "\n",
       "   Tenure    Balance  NumOfProducts  HasCrCard  IsActiveMember  \\\n",
       "0       2       0.00              1          1               1   \n",
       "1       1   83807.86              1          0               1   \n",
       "2       8  159660.80              3          1               0   \n",
       "3       1       0.00              2          0               0   \n",
       "4       2  125510.82              1          1               1   \n",
       "\n",
       "   EstimatedSalary  Exited  \n",
       "0        101348.88       1  \n",
       "1        112542.58       0  \n",
       "2        113931.57       1  \n",
       "3         93826.63       0  \n",
       "4         79084.10       0  "
      ]
     },
     "execution_count": 2,
     "metadata": {},
     "output_type": "execute_result"
    }
   ],
   "source": [
    "dataset=pd.read_csv(r\"C:\\Users\\HP\\OneDrive\\Desktop\\Machine learning\\Churn_Modelling.csv\")\n",
    "dataset.head(5)"
   ]
  },
  {
   "cell_type": "code",
   "execution_count": 4,
   "id": "f49ded3b",
   "metadata": {},
   "outputs": [
    {
     "data": {
      "application/vnd.microsoft.datawrangler.viewer.v0+json": {
       "columns": [
        {
         "name": "index",
         "rawType": "object",
         "type": "string"
        },
        {
         "name": "0",
         "rawType": "int64",
         "type": "integer"
        }
       ],
       "ref": "b79864e7-2050-41f1-bc0a-9eceea77f3d6",
       "rows": [
        [
         "RowNumber",
         "0"
        ],
        [
         "CustomerId",
         "0"
        ],
        [
         "Surname",
         "0"
        ],
        [
         "CreditScore",
         "0"
        ],
        [
         "Geography",
         "0"
        ],
        [
         "Gender",
         "0"
        ],
        [
         "Age",
         "0"
        ],
        [
         "Tenure",
         "0"
        ],
        [
         "Balance",
         "0"
        ],
        [
         "NumOfProducts",
         "0"
        ],
        [
         "HasCrCard",
         "0"
        ],
        [
         "IsActiveMember",
         "0"
        ],
        [
         "EstimatedSalary",
         "0"
        ],
        [
         "Exited",
         "0"
        ]
       ],
       "shape": {
        "columns": 1,
        "rows": 14
       }
      },
      "text/plain": [
       "RowNumber          0\n",
       "CustomerId         0\n",
       "Surname            0\n",
       "CreditScore        0\n",
       "Geography          0\n",
       "Gender             0\n",
       "Age                0\n",
       "Tenure             0\n",
       "Balance            0\n",
       "NumOfProducts      0\n",
       "HasCrCard          0\n",
       "IsActiveMember     0\n",
       "EstimatedSalary    0\n",
       "Exited             0\n",
       "dtype: int64"
      ]
     },
     "execution_count": 4,
     "metadata": {},
     "output_type": "execute_result"
    }
   ],
   "source": [
    "dataset.isnull().sum()"
   ]
  },
  {
   "cell_type": "code",
   "execution_count": 6,
   "id": "43bd2ed9",
   "metadata": {},
   "outputs": [],
   "source": [
    "input_data=dataset.iloc[:,:-1]\n",
    "output_data=dataset.iloc[:,:-1]"
   ]
  },
  {
   "cell_type": "code",
   "execution_count": 10,
   "id": "13a41c77",
   "metadata": {},
   "outputs": [],
   "source": [
    "from sklearn.preprocessing import StandardScaler\n",
    "import pandas as pd\n",
    "\n",
    "# Select only numeric columns\n",
    "numeric_cols = input_data.select_dtypes(include=['int64', 'float64']).columns\n",
    "\n",
    "sc = StandardScaler()\n",
    "input_data[numeric_cols] = sc.fit_transform(input_data[numeric_cols])\n",
    "\n"
   ]
  },
  {
   "cell_type": "code",
   "execution_count": 19,
   "id": "4a27a606",
   "metadata": {},
   "outputs": [
    {
     "data": {
      "text/plain": [
       "(10000, 13)"
      ]
     },
     "execution_count": 19,
     "metadata": {},
     "output_type": "execute_result"
    }
   ],
   "source": [
    "input_data.shape"
   ]
  },
  {
   "cell_type": "code",
   "execution_count": 13,
   "id": "b042e0b1",
   "metadata": {},
   "outputs": [],
   "source": [
    "import tensorflow\n"
   ]
  },
  {
   "cell_type": "code",
   "execution_count": 15,
   "id": "29e922e7",
   "metadata": {},
   "outputs": [],
   "source": [
    "from keras.layers import Dense\n",
    "from keras.models import Sequential"
   ]
  },
  {
   "cell_type": "code",
   "execution_count": 16,
   "id": "aaff3c3a",
   "metadata": {},
   "outputs": [],
   "source": [
    "ann=Sequential()"
   ]
  },
  {
   "cell_type": "code",
   "execution_count": 27,
   "id": "b0cb49b3",
   "metadata": {},
   "outputs": [],
   "source": [
    "ann.add(Dense(10,input_dim=13,activation=\"relu\"))\n",
    "ann.add(Dense(8,activation=\"relu\"))\n",
    "ann.add(Dense(6,activation=\"relu\"))\n",
    "ann.add(Dense(4,activation=\"relu\"))\n",
    "ann.add(Dense(2,activation=\"relu\"))\n",
    "ann.add(Dense(1,activation=\"sigmoid\"))"
   ]
  },
  {
   "cell_type": "code",
   "execution_count": 25,
   "id": "70b86a27",
   "metadata": {},
   "outputs": [],
   "source": [
    "ann.compile(optimizer='adam',loss=\"binary_crossentropy\",metrics=['accuray'])"
   ]
  },
  {
   "cell_type": "code",
   "execution_count": 28,
   "id": "39142616",
   "metadata": {},
   "outputs": [],
   "source": [
    "from sklearn.model_selection import train_test_split"
   ]
  },
  {
   "cell_type": "code",
   "execution_count": 29,
   "id": "808d4f41",
   "metadata": {},
   "outputs": [],
   "source": [
    "\n",
    "X_train, X_test, y_train, y_test = train_test_split(\n",
    "    input_data, output_data, \n",
    "    test_size=0.2,      # 20% test, 80% train\n",
    "    random_state=42     # for reproducibility\n",
    ")\n"
   ]
  },
  {
   "cell_type": "code",
   "execution_count": 30,
   "id": "ec6d4f09",
   "metadata": {},
   "outputs": [
    {
     "name": "stdout",
     "output_type": "stream",
     "text": [
      "(8000, 13) (2000, 13)\n",
      "(8000, 13) (2000, 13)\n"
     ]
    }
   ],
   "source": [
    "print(X_train.shape, X_test.shape)\n",
    "print(y_train.shape, y_test.shape)\n"
   ]
  },
  {
   "cell_type": "code",
   "execution_count": 46,
   "id": "11f08462",
   "metadata": {},
   "outputs": [
    {
     "name": "stdout",
     "output_type": "stream",
     "text": [
      "RowNumber          float64\n",
      "CustomerId         float64\n",
      "Surname             object\n",
      "CreditScore        float64\n",
      "Geography           object\n",
      "Gender              object\n",
      "Age                float64\n",
      "Tenure             float64\n",
      "Balance            float64\n",
      "NumOfProducts      float64\n",
      "HasCrCard          float64\n",
      "IsActiveMember     float64\n",
      "EstimatedSalary    float64\n",
      "dtype: object\n",
      "Index(['Surname', 'Geography', 'Gender'], dtype='object')\n"
     ]
    }
   ],
   "source": [
    "# Check all columns in X_train\n",
    "print(X_train.dtypes)\n",
    "\n",
    "# List only object/string columns\n",
    "print(X_train.select_dtypes(include=['object']).columns)\n"
   ]
  },
  {
   "cell_type": "code",
   "execution_count": 56,
   "id": "02644168",
   "metadata": {},
   "outputs": [],
   "source": [
    "# input_data.drop(columns=[\"Surname\",\"Gender\",\"Geography\"],inplace=True)"
   ]
  },
  {
   "cell_type": "code",
   "execution_count": 59,
   "id": "a795245b",
   "metadata": {},
   "outputs": [],
   "source": [
    "# input_data = pd.get_dummies(input_data, columns=['Geography'])\n"
   ]
  },
  {
   "cell_type": "code",
   "execution_count": 54,
   "id": "35af8daa",
   "metadata": {},
   "outputs": [
    {
     "name": "stdout",
     "output_type": "stream",
     "text": [
      "RowNumber          float64\n",
      "CustomerId         float64\n",
      "Surname             object\n",
      "CreditScore        float64\n",
      "Geography           object\n",
      "Gender              object\n",
      "Age                float64\n",
      "Tenure             float64\n",
      "Balance            float64\n",
      "NumOfProducts      float64\n",
      "HasCrCard          float64\n",
      "IsActiveMember     float64\n",
      "EstimatedSalary    float64\n",
      "dtype: object\n",
      "Index(['Surname', 'Geography', 'Gender'], dtype='object')\n"
     ]
    }
   ],
   "source": [
    "# Check data types\n",
    "print(X_train.dtypes)\n",
    "\n",
    "# List object/string columns\n",
    "print(X_train.select_dtypes(include=['object']).columns)\n",
    "\n"
   ]
  },
  {
   "cell_type": "code",
   "execution_count": 61,
   "id": "40345b9c",
   "metadata": {},
   "outputs": [],
   "source": [
    "# ann.fit(X_train,y_train,batch_size=100,epochs=10)"
   ]
  },
  {
   "cell_type": "code",
   "execution_count": 62,
   "id": "7e6c9040",
   "metadata": {},
   "outputs": [],
   "source": [
    "from sklearn.preprocessing import StandardScaler\n",
    "\n",
    "numeric_cols = input_data.select_dtypes(include=['float64', 'int64']).columns\n",
    "scaler = StandardScaler()\n",
    "input_data[numeric_cols] = scaler.fit_transform(input_data[numeric_cols])\n"
   ]
  },
  {
   "cell_type": "code",
   "execution_count": 65,
   "id": "9ed9480d",
   "metadata": {},
   "outputs": [],
   "source": [
    "# Drop irrelevant string columns\n",
    "X_train = X_train.drop(['Surname'], axis=1)\n",
    "X_test  = X_test.drop(['Surname'], axis=1)\n",
    "\n",
    "# Encode Gender (male=0, female=1)\n",
    "from sklearn.preprocessing import LabelEncoder\n",
    "le = LabelEncoder()\n",
    "X_train['Gender'] = le.fit_transform(X_train['Gender'])\n",
    "X_test['Gender']  = le.transform(X_test['Gender'])\n",
    "\n",
    "# One-hot encode Geography\n",
    "X_train = pd.get_dummies(X_train, columns=['Geography'])\n",
    "X_test  = pd.get_dummies(X_test, columns=['Geography'])\n",
    "\n",
    "# Ensure both sets have same columns after encoding\n",
    "X_test = X_test.reindex(columns=X_train.columns, fill_value=0)\n"
   ]
  },
  {
   "cell_type": "code",
   "execution_count": 67,
   "id": "bf5de6f7",
   "metadata": {},
   "outputs": [],
   "source": [
    "from sklearn.preprocessing import StandardScaler\n",
    "\n",
    "numeric_cols = X_train.select_dtypes(include=['float64', 'int64']).columns\n",
    "scaler = StandardScaler()\n",
    "X_train[numeric_cols] = scaler.fit_transform(X_train[numeric_cols])\n",
    "X_test[numeric_cols]  = scaler.transform(X_test[numeric_cols])\n"
   ]
  },
  {
   "cell_type": "code",
   "execution_count": 68,
   "id": "725755da",
   "metadata": {},
   "outputs": [
    {
     "name": "stdout",
     "output_type": "stream",
     "text": [
      "RowNumber            float64\n",
      "CustomerId           float64\n",
      "CreditScore          float64\n",
      "Gender               float64\n",
      "Age                  float64\n",
      "Tenure               float64\n",
      "Balance              float64\n",
      "NumOfProducts        float64\n",
      "HasCrCard            float64\n",
      "IsActiveMember       float64\n",
      "EstimatedSalary      float64\n",
      "Geography_France        bool\n",
      "Geography_Germany       bool\n",
      "Geography_Spain         bool\n",
      "dtype: object\n"
     ]
    }
   ],
   "source": [
    "print(X_train.dtypes)\n",
    "# Should show only int64 or float64\n"
   ]
  },
  {
   "cell_type": "code",
   "execution_count": 70,
   "id": "8599690a",
   "metadata": {},
   "outputs": [],
   "source": [
    "# from tensorflow.keras.models import Sequential\n",
    "# from tensorflow.keras.layers import Dense\n",
    "\n",
    "# ann = Sequential([\n",
    "#     Dense(16, activation='relu', input_shape=(X_train.shape[1],)),\n",
    "#     Dense(8, activation='relu'),\n",
    "#     Dense(1, activation='sigmoid')\n",
    "# ])\n",
    "\n",
    "# ann.compile(optimizer='adam', loss='binary_crossentropy', metrics=['accuracy'])\n",
    "\n",
    "# history = ann.fit(X_train, y_train, batch_size=100, epochs=10)\n"
   ]
  },
  {
   "cell_type": "code",
   "execution_count": null,
   "id": "b013d72c",
   "metadata": {},
   "outputs": [],
   "source": []
  }
 ],
 "metadata": {
  "kernelspec": {
   "display_name": "Python 3",
   "language": "python",
   "name": "python3"
  },
  "language_info": {
   "codemirror_mode": {
    "name": "ipython",
    "version": 3
   },
   "file_extension": ".py",
   "mimetype": "text/x-python",
   "name": "python",
   "nbconvert_exporter": "python",
   "pygments_lexer": "ipython3",
   "version": "3.11.4"
  }
 },
 "nbformat": 4,
 "nbformat_minor": 5
}
